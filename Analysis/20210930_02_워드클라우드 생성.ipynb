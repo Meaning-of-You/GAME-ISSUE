{
 "cells": [
  {
   "cell_type": "code",
   "execution_count": 1,
   "id": "30c2b385",
   "metadata": {},
   "outputs": [
    {
     "name": "stdout",
     "output_type": "stream",
     "text": [
      "Collecting jpype1<1.1\n",
      "  Downloading JPype1-1.0.2-cp38-cp38-win_amd64.whl (1.6 MB)\n",
      "Installing collected packages: jpype1\n",
      "  Attempting uninstall: jpype1\n",
      "    Found existing installation: JPype1 1.3.0\n",
      "    Uninstalling JPype1-1.3.0:\n",
      "      Successfully uninstalled JPype1-1.3.0\n",
      "Successfully installed jpype1-1.0.2\n"
     ]
    }
   ],
   "source": [
    "# jpype1<1.1 설치\n",
    "!pip install -U \"jpype1<1.1\""
   ]
  },
  {
   "cell_type": "code",
   "execution_count": 2,
   "id": "ff134ead",
   "metadata": {},
   "outputs": [
    {
     "name": "stdout",
     "output_type": "stream",
     "text": [
      "Requirement already satisfied: konlpy in c:\\users\\user\\anaconda3\\lib\\site-packages (0.5.2)\n",
      "Requirement already satisfied: JPype1>=0.7.0 in c:\\users\\user\\anaconda3\\lib\\site-packages (from konlpy) (1.0.2)\n",
      "Requirement already satisfied: tweepy>=3.7.0 in c:\\users\\user\\anaconda3\\lib\\site-packages (from konlpy) (3.10.0)\n",
      "Requirement already satisfied: numpy>=1.6 in c:\\users\\user\\anaconda3\\lib\\site-packages (from konlpy) (1.20.1)\n",
      "Requirement already satisfied: lxml>=4.1.0 in c:\\users\\user\\anaconda3\\lib\\site-packages (from konlpy) (4.6.3)\n",
      "Requirement already satisfied: colorama in c:\\users\\user\\anaconda3\\lib\\site-packages (from konlpy) (0.4.4)\n",
      "Requirement already satisfied: beautifulsoup4==4.6.0 in c:\\users\\user\\anaconda3\\lib\\site-packages (from konlpy) (4.6.0)\n",
      "Requirement already satisfied: requests[socks]>=2.11.1 in c:\\users\\user\\anaconda3\\lib\\site-packages (from tweepy>=3.7.0->konlpy) (2.25.1)\n",
      "Requirement already satisfied: six>=1.10.0 in c:\\users\\user\\anaconda3\\lib\\site-packages (from tweepy>=3.7.0->konlpy) (1.15.0)\n",
      "Requirement already satisfied: requests-oauthlib>=0.7.0 in c:\\users\\user\\anaconda3\\lib\\site-packages (from tweepy>=3.7.0->konlpy) (1.3.0)\n",
      "Requirement already satisfied: oauthlib>=3.0.0 in c:\\users\\user\\anaconda3\\lib\\site-packages (from requests-oauthlib>=0.7.0->tweepy>=3.7.0->konlpy) (3.1.1)\n",
      "Requirement already satisfied: certifi>=2017.4.17 in c:\\users\\user\\anaconda3\\lib\\site-packages (from requests[socks]>=2.11.1->tweepy>=3.7.0->konlpy) (2020.12.5)\n",
      "Requirement already satisfied: idna<3,>=2.5 in c:\\users\\user\\anaconda3\\lib\\site-packages (from requests[socks]>=2.11.1->tweepy>=3.7.0->konlpy) (2.10)\n",
      "Requirement already satisfied: urllib3<1.27,>=1.21.1 in c:\\users\\user\\anaconda3\\lib\\site-packages (from requests[socks]>=2.11.1->tweepy>=3.7.0->konlpy) (1.26.4)\n",
      "Requirement already satisfied: chardet<5,>=3.0.2 in c:\\users\\user\\anaconda3\\lib\\site-packages (from requests[socks]>=2.11.1->tweepy>=3.7.0->konlpy) (4.0.0)\n",
      "Requirement already satisfied: PySocks!=1.5.7,>=1.5.6 in c:\\users\\user\\anaconda3\\lib\\site-packages (from requests[socks]>=2.11.1->tweepy>=3.7.0->konlpy) (1.7.1)\n",
      "Requirement already satisfied: wordcloud in c:\\users\\user\\anaconda3\\lib\\site-packages (1.8.1)\n",
      "Requirement already satisfied: numpy>=1.6.1 in c:\\users\\user\\anaconda3\\lib\\site-packages (from wordcloud) (1.20.1)\n",
      "Requirement already satisfied: matplotlib in c:\\users\\user\\anaconda3\\lib\\site-packages (from wordcloud) (3.3.4)\n",
      "Requirement already satisfied: pillow in c:\\users\\user\\anaconda3\\lib\\site-packages (from wordcloud) (8.2.0)\n",
      "Requirement already satisfied: pyparsing!=2.0.4,!=2.1.2,!=2.1.6,>=2.0.3 in c:\\users\\user\\anaconda3\\lib\\site-packages (from matplotlib->wordcloud) (2.4.7)\n",
      "Requirement already satisfied: python-dateutil>=2.1 in c:\\users\\user\\anaconda3\\lib\\site-packages (from matplotlib->wordcloud) (2.8.1)\n",
      "Requirement already satisfied: kiwisolver>=1.0.1 in c:\\users\\user\\anaconda3\\lib\\site-packages (from matplotlib->wordcloud) (1.3.1)\n",
      "Requirement already satisfied: cycler>=0.10 in c:\\users\\user\\anaconda3\\lib\\site-packages (from matplotlib->wordcloud) (0.10.0)\n",
      "Requirement already satisfied: six in c:\\users\\user\\anaconda3\\lib\\site-packages (from cycler>=0.10->matplotlib->wordcloud) (1.15.0)\n"
     ]
    }
   ],
   "source": [
    "# konlpy와 wordcloud 설치\n",
    "!pip install konlpy\n",
    "!pip install wordcloud"
   ]
  },
  {
   "cell_type": "code",
   "execution_count": 4,
   "id": "d2a80aef",
   "metadata": {
    "scrolled": true
   },
   "outputs": [],
   "source": [
    "# numpy 라이브러리, pandas 라이브러리, matplotlib 라이브러리 임포트\n",
    "import numpy as np\n",
    "import pandas as pd\n",
    "import matplotlib.pyplot as plt\n",
    "import matplotlib as mp"
   ]
  },
  {
   "cell_type": "code",
   "execution_count": 5,
   "id": "3cb59e54",
   "metadata": {},
   "outputs": [],
   "source": [
    "# 한글화\n",
    "fm = mp.font_manager.FontManager()\n",
    "plt.rcParams['font.family'] = 'Malgun Gothic'"
   ]
  },
  {
   "cell_type": "code",
   "execution_count": 6,
   "id": "a9811989",
   "metadata": {},
   "outputs": [],
   "source": [
    "# 데이터 전처리를 위한 라이브러리 임포트\n",
    "from konlpy.tag import Okt\n",
    "from collections import Counter\n",
    "from wordcloud import WordCloud"
   ]
  },
  {
   "cell_type": "code",
   "execution_count": 11,
   "id": "f78f01d5",
   "metadata": {},
   "outputs": [
    {
     "name": "stderr",
     "output_type": "stream",
     "text": [
      "C:\\Users\\user\\anaconda3\\lib\\site-packages\\openpyxl\\styles\\stylesheet.py:221: UserWarning: Workbook contains no default style, apply openpyxl's default\n",
      "  warn(\"Workbook contains no default style, apply openpyxl's default\")\n"
     ]
    },
    {
     "data": {
      "text/html": [
       "<div>\n",
       "<style scoped>\n",
       "    .dataframe tbody tr th:only-of-type {\n",
       "        vertical-align: middle;\n",
       "    }\n",
       "\n",
       "    .dataframe tbody tr th {\n",
       "        vertical-align: top;\n",
       "    }\n",
       "\n",
       "    .dataframe thead th {\n",
       "        text-align: right;\n",
       "    }\n",
       "</style>\n",
       "<table border=\"1\" class=\"dataframe\">\n",
       "  <thead>\n",
       "    <tr style=\"text-align: right;\">\n",
       "      <th></th>\n",
       "      <th>뉴스 식별자</th>\n",
       "      <th>일자</th>\n",
       "      <th>언론사</th>\n",
       "      <th>기고자</th>\n",
       "      <th>제목</th>\n",
       "      <th>통합 분류1</th>\n",
       "      <th>통합 분류2</th>\n",
       "      <th>통합 분류3</th>\n",
       "      <th>사건/사고 분류1</th>\n",
       "      <th>사건/사고 분류2</th>\n",
       "      <th>사건/사고 분류3</th>\n",
       "      <th>인물</th>\n",
       "      <th>위치</th>\n",
       "      <th>기관</th>\n",
       "      <th>키워드</th>\n",
       "      <th>특성추출(가중치순 상위 50개)</th>\n",
       "      <th>본문</th>\n",
       "      <th>URL</th>\n",
       "      <th>분석제외 여부</th>\n",
       "    </tr>\n",
       "  </thead>\n",
       "  <tbody>\n",
       "    <tr>\n",
       "      <th>0</th>\n",
       "      <td>1.100101e+06</td>\n",
       "      <td>20210930</td>\n",
       "      <td>경향신문</td>\n",
       "      <td>차준철 논설위원 cheol@kyunghyang.com</td>\n",
       "      <td>[여적] 달고나 따라하기</td>\n",
       "      <td>문화&gt;방송_연예</td>\n",
       "      <td>IT_과학&gt;콘텐츠</td>\n",
       "      <td>문화&gt;출판</td>\n",
       "      <td>NaN</td>\n",
       "      <td>NaN</td>\n",
       "      <td>NaN</td>\n",
       "      <td>NaN</td>\n",
       "      <td>미국</td>\n",
       "      <td>모나리자,넷플릭스,인도네시아,한창,한국,이베이</td>\n",
       "      <td>달고,추억,군것질,거리,놀이,코로나,시대,집콕,아이콘,커피,설탕,400번,우유,달고...</td>\n",
       "      <td>달고,달고나,400번,연탄불,길거리,온라인,집콕,넷플릭스,인도네시아,조회수,누리꾼,...</td>\n",
       "      <td>1970~80년대 추억의 군것질거리 달고나는 지난해 봄 코로나 시대 ‘집콕 놀이’의...</td>\n",
       "      <td>https://www.khan.co.kr/opinion/yeojeok/article...</td>\n",
       "      <td>NaN</td>\n",
       "    </tr>\n",
       "    <tr>\n",
       "      <th>1</th>\n",
       "      <td>7.101201e+06</td>\n",
       "      <td>20210930</td>\n",
       "      <td>디지털타임스</td>\n",
       "      <td>윤선영</td>\n",
       "      <td>엔씨소프트 \"리니지W 사업모델 체질 개선할것\"</td>\n",
       "      <td>IT_과학&gt;콘텐츠</td>\n",
       "      <td>IT_과학&gt;모바일</td>\n",
       "      <td>IT_과학&gt;보안</td>\n",
       "      <td>NaN</td>\n",
       "      <td>NaN</td>\n",
       "      <td>NaN</td>\n",
       "      <td>이,이성구,김택신</td>\n",
       "      <td>NaN</td>\n",
       "      <td>쇼케이스,BM,엔씨소프트</td>\n",
       "      <td>개선,엔씨소프트,리니지,사업,모델,체질,단언,MMORPG,신작,멀티플랫폼,다중접속역...</td>\n",
       "      <td>리니지,그룹장,엔씨소프트,아인하사드,쇼케이스,마법인형,리니지w,bm,마법인,이성구,...</td>\n",
       "      <td>\"단언컨대 신작 멀티플랫폼 MMORPG(다중접속역할수행게임) '리니지W'에서는 서비...</td>\n",
       "      <td>http://www.dt.co.kr/contents.html?article_no=2...</td>\n",
       "      <td>NaN</td>\n",
       "    </tr>\n",
       "    <tr>\n",
       "      <th>2</th>\n",
       "      <td>7.101201e+06</td>\n",
       "      <td>20210930</td>\n",
       "      <td>디지털타임스</td>\n",
       "      <td>김나인</td>\n",
       "      <td>오징어게임, 미국 유럽 80개국 1위 `글로벌 열풍`</td>\n",
       "      <td>IT_과학&gt;콘텐츠</td>\n",
       "      <td>NaN</td>\n",
       "      <td>NaN</td>\n",
       "      <td>NaN</td>\n",
       "      <td>NaN</td>\n",
       "      <td>NaN</td>\n",
       "      <td>테드 사란도스</td>\n",
       "      <td>우크라이나,최고경영자,미국,인도,영국,유럽,할리우드,한국,남아프리카공화국</td>\n",
       "      <td>CNN,유럽,가디언,넷플릭스,한국</td>\n",
       "      <td>오징어게임,미국,유럽,개국,글로벌,열풍,기생충,역사,월드,랭킹,포인트,압도,선두,C...</td>\n",
       "      <td>넷플릭스,미국,기생충,1위,오스카,한국,3개국,80개국,데드라인,cnn,플릭스,영국...</td>\n",
       "      <td>국내 드라마 시리즈 '오징어 게임'이 글로벌 시장에서 선풍적인 인기를 끌고 있는 가...</td>\n",
       "      <td>http://www.dt.co.kr/contents.html?article_no=2...</td>\n",
       "      <td>NaN</td>\n",
       "    </tr>\n",
       "    <tr>\n",
       "      <th>3</th>\n",
       "      <td>8.100101e+06</td>\n",
       "      <td>20210930</td>\n",
       "      <td>KBS</td>\n",
       "      <td>천현수</td>\n",
       "      <td>자치단체 개발 공공앱 30% 폐기 “예산 낭비”</td>\n",
       "      <td>IT_과학&gt;콘텐츠</td>\n",
       "      <td>IT_과학&gt;보안</td>\n",
       "      <td>NaN</td>\n",
       "      <td>NaN</td>\n",
       "      <td>NaN</td>\n",
       "      <td>NaN</td>\n",
       "      <td>한병도/국회</td>\n",
       "      <td>김해시,합천군,함안군,천현수,경남,경남지역,창원시</td>\n",
       "      <td>양산시,행정안전부,행정안전위원회,창원시,함양군</td>\n",
       "      <td>자치단체,예산,낭비,앵커,지방자치단체들,스마트폰용,3개,1개,폐기,처지,시민들,사후...</td>\n",
       "      <td>창원시,사용자,1개,양산시,자치단체,경남,행정안전부,농산물,3개,10억,관광지,천현...</td>\n",
       "      <td>[KBS 창원]\\n [앵커]\\n\\n 지방자치단체들이 수천억 원에서 수천만 원을 들여...</td>\n",
       "      <td>https://news.kbs.co.kr/news/view.do?ncd=529094...</td>\n",
       "      <td>NaN</td>\n",
       "    </tr>\n",
       "    <tr>\n",
       "      <th>4</th>\n",
       "      <td>1.100901e+06</td>\n",
       "      <td>20210930</td>\n",
       "      <td>중앙일보</td>\n",
       "      <td>이해준(lee.hayjune@joongang.co.kr)</td>\n",
       "      <td>\"한때 전교1등\" 오징어게임 그 남자  대기업 다니다 연기 도전</td>\n",
       "      <td>문화&gt;방송_연예</td>\n",
       "      <td>문화&gt;영화</td>\n",
       "      <td>IT_과학&gt;콘텐츠</td>\n",
       "      <td>NaN</td>\n",
       "      <td>NaN</td>\n",
       "      <td>NaN</td>\n",
       "      <td>이동휘,정호연,허성태,최</td>\n",
       "      <td>개성,베네타</td>\n",
       "      <td>전교,SBS,보테가,넷플릭스,루이뷔통</td>\n",
       "      <td>전교1등,오징어게임,남자,대기업,연기,도전,넷플릭스,오리지널,드라마,오징어,게임,인...</td>\n",
       "      <td>정호연,허성태,오징어게임,명대,인스타,대기업,장덕수,연기자,참가자,외국인,지영,넷플...</td>\n",
       "      <td>넷플릭스 오리지널 드라마 ‘오징어게임’의 인기가 높아지면서 허성태, 정호연 등 조연...</td>\n",
       "      <td>https://www.joongang.co.kr/article/25011341</td>\n",
       "      <td>NaN</td>\n",
       "    </tr>\n",
       "  </tbody>\n",
       "</table>\n",
       "</div>"
      ],
      "text/plain": [
       "         뉴스 식별자        일자     언론사                              기고자  \\\n",
       "0  1.100101e+06  20210930    경향신문    차준철 논설위원 cheol@kyunghyang.com   \n",
       "1  7.101201e+06  20210930  디지털타임스                              윤선영   \n",
       "2  7.101201e+06  20210930  디지털타임스                              김나인   \n",
       "3  8.100101e+06  20210930     KBS                              천현수   \n",
       "4  1.100901e+06  20210930    중앙일보  이해준(lee.hayjune@joongang.co.kr)   \n",
       "\n",
       "                                    제목     통합 분류1      통합 분류2      통합 분류3  \\\n",
       "0                        [여적] 달고나 따라하기   문화>방송_연예   IT_과학>콘텐츠       문화>출판   \n",
       "1            엔씨소프트 \"리니지W 사업모델 체질 개선할것\"  IT_과학>콘텐츠   IT_과학>모바일    IT_과학>보안   \n",
       "2        오징어게임, 미국 유럽 80개국 1위 `글로벌 열풍`  IT_과학>콘텐츠         NaN         NaN   \n",
       "3           자치단체 개발 공공앱 30% 폐기 “예산 낭비”  IT_과학>콘텐츠    IT_과학>보안         NaN   \n",
       "4  \"한때 전교1등\" 오징어게임 그 남자  대기업 다니다 연기 도전   문화>방송_연예       문화>영화   IT_과학>콘텐츠   \n",
       "\n",
       "  사건/사고 분류1 사건/사고 분류2 사건/사고 분류3             인물  \\\n",
       "0       NaN       NaN       NaN            NaN   \n",
       "1       NaN       NaN       NaN      이,이성구,김택신   \n",
       "2       NaN       NaN       NaN        테드 사란도스   \n",
       "3       NaN       NaN       NaN         한병도/국회   \n",
       "4       NaN       NaN       NaN  이동휘,정호연,허성태,최   \n",
       "\n",
       "                                         위치                         기관  \\\n",
       "0                                        미국  모나리자,넷플릭스,인도네시아,한창,한국,이베이   \n",
       "1                                       NaN              쇼케이스,BM,엔씨소프트   \n",
       "2  우크라이나,최고경영자,미국,인도,영국,유럽,할리우드,한국,남아프리카공화국         CNN,유럽,가디언,넷플릭스,한국   \n",
       "3               김해시,합천군,함안군,천현수,경남,경남지역,창원시  양산시,행정안전부,행정안전위원회,창원시,함양군   \n",
       "4                                    개성,베네타       전교,SBS,보테가,넷플릭스,루이뷔통   \n",
       "\n",
       "                                                 키워드  \\\n",
       "0  달고,추억,군것질,거리,놀이,코로나,시대,집콕,아이콘,커피,설탕,400번,우유,달고...   \n",
       "1  개선,엔씨소프트,리니지,사업,모델,체질,단언,MMORPG,신작,멀티플랫폼,다중접속역...   \n",
       "2  오징어게임,미국,유럽,개국,글로벌,열풍,기생충,역사,월드,랭킹,포인트,압도,선두,C...   \n",
       "3  자치단체,예산,낭비,앵커,지방자치단체들,스마트폰용,3개,1개,폐기,처지,시민들,사후...   \n",
       "4  전교1등,오징어게임,남자,대기업,연기,도전,넷플릭스,오리지널,드라마,오징어,게임,인...   \n",
       "\n",
       "                                   특성추출(가중치순 상위 50개)  \\\n",
       "0  달고,달고나,400번,연탄불,길거리,온라인,집콕,넷플릭스,인도네시아,조회수,누리꾼,...   \n",
       "1  리니지,그룹장,엔씨소프트,아인하사드,쇼케이스,마법인형,리니지w,bm,마법인,이성구,...   \n",
       "2  넷플릭스,미국,기생충,1위,오스카,한국,3개국,80개국,데드라인,cnn,플릭스,영국...   \n",
       "3  창원시,사용자,1개,양산시,자치단체,경남,행정안전부,농산물,3개,10억,관광지,천현...   \n",
       "4  정호연,허성태,오징어게임,명대,인스타,대기업,장덕수,연기자,참가자,외국인,지영,넷플...   \n",
       "\n",
       "                                                  본문  \\\n",
       "0  1970~80년대 추억의 군것질거리 달고나는 지난해 봄 코로나 시대 ‘집콕 놀이’의...   \n",
       "1  \"단언컨대 신작 멀티플랫폼 MMORPG(다중접속역할수행게임) '리니지W'에서는 서비...   \n",
       "2  국내 드라마 시리즈 '오징어 게임'이 글로벌 시장에서 선풍적인 인기를 끌고 있는 가...   \n",
       "3  [KBS 창원]\\n [앵커]\\n\\n 지방자치단체들이 수천억 원에서 수천만 원을 들여...   \n",
       "4  넷플릭스 오리지널 드라마 ‘오징어게임’의 인기가 높아지면서 허성태, 정호연 등 조연...   \n",
       "\n",
       "                                                 URL 분석제외 여부  \n",
       "0  https://www.khan.co.kr/opinion/yeojeok/article...     NaN  \n",
       "1  http://www.dt.co.kr/contents.html?article_no=2...     NaN  \n",
       "2  http://www.dt.co.kr/contents.html?article_no=2...     NaN  \n",
       "3  https://news.kbs.co.kr/news/view.do?ncd=529094...     NaN  \n",
       "4        https://www.joongang.co.kr/article/25011341     NaN  "
      ]
     },
     "execution_count": 11,
     "metadata": {},
     "output_type": "execute_result"
    }
   ],
   "source": [
    "# 빅카인즈에서 수집한 데이터 불러오기\n",
    "df = pd.read_excel('game_news_crawling_20210101-20210930.xlsx')\n",
    "df.head()"
   ]
  },
  {
   "cell_type": "code",
   "execution_count": 12,
   "id": "420cf2d1",
   "metadata": {},
   "outputs": [
    {
     "data": {
      "text/plain": [
       "(20000, 19)"
      ]
     },
     "execution_count": 12,
     "metadata": {},
     "output_type": "execute_result"
    }
   ],
   "source": [
    "# 데이터 프레임의 행과 열 개수 확인\n",
    "# 19개의 컬럼과 20000개의 행\n",
    "df.shape"
   ]
  },
  {
   "cell_type": "code",
   "execution_count": 13,
   "id": "9642e2e9",
   "metadata": {},
   "outputs": [
    {
     "name": "stdout",
     "output_type": "stream",
     "text": [
      "<class 'pandas.core.frame.DataFrame'>\n",
      "RangeIndex: 20000 entries, 0 to 19999\n",
      "Data columns (total 19 columns):\n",
      " #   Column             Non-Null Count  Dtype  \n",
      "---  ------             --------------  -----  \n",
      " 0   뉴스 식별자             20000 non-null  float64\n",
      " 1   일자                 20000 non-null  int64  \n",
      " 2   언론사                20000 non-null  object \n",
      " 3   기고자                19323 non-null  object \n",
      " 4   제목                 20000 non-null  object \n",
      " 5   통합 분류1             20000 non-null  object \n",
      " 6   통합 분류2             15756 non-null  object \n",
      " 7   통합 분류3             9588 non-null   object \n",
      " 8   사건/사고 분류1          2293 non-null   object \n",
      " 9   사건/사고 분류2          544 non-null    object \n",
      " 10  사건/사고 분류3          110 non-null    object \n",
      " 11  인물                 12797 non-null  object \n",
      " 12  위치                 16283 non-null  object \n",
      " 13  기관                 19854 non-null  object \n",
      " 14  키워드                20000 non-null  object \n",
      " 15  특성추출(가중치순 상위 50개)  20000 non-null  object \n",
      " 16  본문                 20000 non-null  object \n",
      " 17  URL                19968 non-null  object \n",
      " 18  분석제외 여부            531 non-null    object \n",
      "dtypes: float64(1), int64(1), object(17)\n",
      "memory usage: 2.9+ MB\n"
     ]
    }
   ],
   "source": [
    "# 데이터 프레임의 전반적인 정보 확인\n",
    "df.info()"
   ]
  },
  {
   "cell_type": "code",
   "execution_count": 14,
   "id": "19d87467",
   "metadata": {},
   "outputs": [],
   "source": [
    "twitter = Okt()"
   ]
  },
  {
   "cell_type": "markdown",
   "id": "db293f37",
   "metadata": {},
   "source": [
    "### 제목을 기준으로 워드클라우드 생성"
   ]
  },
  {
   "cell_type": "code",
   "execution_count": 18,
   "id": "c8fb3e95",
   "metadata": {},
   "outputs": [],
   "source": [
    "# 제목 컬럼만 추출후 저장\n",
    "word_list = df[['제목']]"
   ]
  },
  {
   "cell_type": "code",
   "execution_count": 19,
   "id": "a61e8768",
   "metadata": {},
   "outputs": [
    {
     "data": {
      "text/html": [
       "<div>\n",
       "<style scoped>\n",
       "    .dataframe tbody tr th:only-of-type {\n",
       "        vertical-align: middle;\n",
       "    }\n",
       "\n",
       "    .dataframe tbody tr th {\n",
       "        vertical-align: top;\n",
       "    }\n",
       "\n",
       "    .dataframe thead th {\n",
       "        text-align: right;\n",
       "    }\n",
       "</style>\n",
       "<table border=\"1\" class=\"dataframe\">\n",
       "  <thead>\n",
       "    <tr style=\"text-align: right;\">\n",
       "      <th></th>\n",
       "      <th>제목</th>\n",
       "    </tr>\n",
       "  </thead>\n",
       "  <tbody>\n",
       "    <tr>\n",
       "      <th>0</th>\n",
       "      <td>[여적] 달고나 따라하기</td>\n",
       "    </tr>\n",
       "    <tr>\n",
       "      <th>1</th>\n",
       "      <td>엔씨소프트 \"리니지W 사업모델 체질 개선할것\"</td>\n",
       "    </tr>\n",
       "    <tr>\n",
       "      <th>2</th>\n",
       "      <td>오징어게임, 미국 유럽 80개국 1위 `글로벌 열풍`</td>\n",
       "    </tr>\n",
       "    <tr>\n",
       "      <th>3</th>\n",
       "      <td>자치단체 개발 공공앱 30% 폐기 “예산 낭비”</td>\n",
       "    </tr>\n",
       "    <tr>\n",
       "      <th>4</th>\n",
       "      <td>\"한때 전교1등\" 오징어게임 그 남자  대기업 다니다 연기 도전</td>\n",
       "    </tr>\n",
       "  </tbody>\n",
       "</table>\n",
       "</div>"
      ],
      "text/plain": [
       "                                    제목\n",
       "0                        [여적] 달고나 따라하기\n",
       "1            엔씨소프트 \"리니지W 사업모델 체질 개선할것\"\n",
       "2        오징어게임, 미국 유럽 80개국 1위 `글로벌 열풍`\n",
       "3           자치단체 개발 공공앱 30% 폐기 “예산 낭비”\n",
       "4  \"한때 전교1등\" 오징어게임 그 남자  대기업 다니다 연기 도전"
      ]
     },
     "execution_count": 19,
     "metadata": {},
     "output_type": "execute_result"
    }
   ],
   "source": [
    "word_list.head()"
   ]
  },
  {
   "cell_type": "code",
   "execution_count": 21,
   "id": "3eb8d3ce",
   "metadata": {
    "scrolled": false
   },
   "outputs": [
    {
     "data": {
      "text/plain": [
       "제목    0\n",
       "dtype: int64"
      ]
     },
     "execution_count": 21,
     "metadata": {},
     "output_type": "execute_result"
    }
   ],
   "source": [
    "# 제목은 Null값이 없는 것을 확인\n",
    "word_list.isnull().sum()"
   ]
  }
 ],
 "metadata": {
  "kernelspec": {
   "display_name": "Python 3",
   "language": "python",
   "name": "python3"
  },
  "language_info": {
   "codemirror_mode": {
    "name": "ipython",
    "version": 3
   },
   "file_extension": ".py",
   "mimetype": "text/x-python",
   "name": "python",
   "nbconvert_exporter": "python",
   "pygments_lexer": "ipython3",
   "version": "3.8.8"
  }
 },
 "nbformat": 4,
 "nbformat_minor": 5
}
