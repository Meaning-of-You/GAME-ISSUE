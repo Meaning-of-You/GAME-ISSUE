{
 "cells": [
  {
   "cell_type": "markdown",
   "id": "4be08493",
   "metadata": {},
   "source": [
    "#### 데이터 정보"
   ]
  },
  {
   "cell_type": "markdown",
   "id": "0a1ad061",
   "metadata": {},
   "source": [
    "- 데이터 수집처: 빅카인즈(https://www.bigkinds.or.kr/)  \n",
    "\n",
    "- 검색어: 메타버스 \n",
    "\n",
    "- 기간: 2021.01.01 ~ 현재  \n",
    "\n",
    "- 통합 분류: IT_과학  "
   ]
  },
  {
   "cell_type": "markdown",
   "id": "33dbc90a",
   "metadata": {},
   "source": [
    "### Selenium을 활용한 데이터 수집"
   ]
  },
  {
   "cell_type": "code",
   "execution_count": 1,
   "id": "9ab907ce",
   "metadata": {
    "scrolled": true
   },
   "outputs": [
    {
     "name": "stdout",
     "output_type": "stream",
     "text": [
      "Requirement already satisfied: selenium in c:\\users\\user\\anaconda3\\lib\\site-packages (3.141.0)\n",
      "Requirement already satisfied: urllib3 in c:\\users\\user\\anaconda3\\lib\\site-packages (from selenium) (1.26.4)\n"
     ]
    }
   ],
   "source": [
    "# selenium 설치하기\n",
    "# !pip install selenium"
   ]
  },
  {
   "cell_type": "code",
   "execution_count": 1,
   "id": "8e58523f",
   "metadata": {},
   "outputs": [],
   "source": [
    "# selenium 라이브러리 임포트\n",
    "from selenium import webdriver\n",
    "from selenium.webdriver.common.keys import Keys\n",
    "\n",
    "# 시간 제어를 위해 임포트\n",
    "import time"
   ]
  },
  {
   "cell_type": "markdown",
   "id": "b5cc5112",
   "metadata": {},
   "source": [
    "#### ChromeDriver 다운로드 후 경로 지정"
   ]
  },
  {
   "cell_type": "markdown",
   "id": "560f70a2",
   "metadata": {},
   "source": [
    "- 순서\n",
    "    - chrome 웹 브라우저 시작 > 설정 > Chrome 정보 > 버전 확인 (94.0.4606.61)\n",
    "    - https://chromedriver.chromium.org/downloads 접속\n",
    "    - 버전과 일치하는 드라이버 선택 (ChromeDriver 94.0.4606.61)\n",
    "    - 윈도우는 win32 다운로드"
   ]
  },
  {
   "cell_type": "code",
   "execution_count": 2,
   "id": "9762d5e4",
   "metadata": {},
   "outputs": [],
   "source": [
    "# 웹 드라이버 경로 지정\n",
    "path = './chromedriver.exe'\n",
    "\n",
    "# 크롬 웹 드라이버 객체 생성\n",
    "driver = webdriver.Chrome(path)\n",
    "\n",
    "# url 설정\n",
    "url = 'https://www.bigkinds.or.kr/'\n",
    "\n",
    "# 페이지 열기\n",
    "driver.get(url)"
   ]
  },
  {
   "cell_type": "code",
   "execution_count": 3,
   "id": "d6526fcc",
   "metadata": {},
   "outputs": [],
   "source": [
    "# 메뉴 선택\n",
    "menu = driver.find_element_by_class_name('btn-menu')\n",
    "menu.click()"
   ]
  },
  {
   "cell_type": "code",
   "execution_count": 4,
   "id": "70c6a2f7",
   "metadata": {},
   "outputs": [],
   "source": [
    "# 로그인 창 띄우기\n",
    "# 로그인을 미리 안해두면 데이터를 다운 받기 전 로그인 하라는 알림창이 나타남\n",
    "login = driver.find_element_by_css_selector('#header > div.hd-gnb > div.gnb-top > button.btn-login.login-modal-btn.login-area-before')\n",
    "login.click()"
   ]
  },
  {
   "cell_type": "code",
   "execution_count": 5,
   "id": "c17fb162",
   "metadata": {},
   "outputs": [],
   "source": [
    "# 로그인 하기 send_keys에는 입력할 문자\n",
    "inputId = driver.find_element_by_id('login-user-id')\n",
    "inputId.send_keys('ymlmj@naver.com')\n",
    "\n",
    "inputPass = driver.find_element_by_id('login-user-password')\n",
    "inputPass.send_keys('apSwbgGmJd')\n",
    "\n",
    "buttonLogin = driver.find_element_by_class_name('login-btn')\n",
    "buttonLogin.click()"
   ]
  },
  {
   "cell_type": "code",
   "execution_count": 6,
   "id": "a904879a",
   "metadata": {},
   "outputs": [],
   "source": [
    "# 로그인 완료 후 메뉴 창 닫기\n",
    "close = driver.find_element_by_class_name('btn-x')\n",
    "close.click()"
   ]
  },
  {
   "cell_type": "code",
   "execution_count": 7,
   "id": "e39d285e",
   "metadata": {
    "scrolled": true
   },
   "outputs": [],
   "source": [
    "# 검색어 '게임' 입력\n",
    "inputSearch = driver.find_element_by_id('total-search-key')\n",
    "inputSearch.send_keys('메타버스')"
   ]
  },
  {
   "cell_type": "code",
   "execution_count": 8,
   "id": "f6cb4045",
   "metadata": {},
   "outputs": [],
   "source": [
    "# 상세검색 선택\n",
    "search_detail_btn = driver.find_element_by_class_name('btn-srchDetail')\n",
    "search_detail_btn.click()"
   ]
  },
  {
   "cell_type": "code",
   "execution_count": 9,
   "id": "8dd4b04a",
   "metadata": {},
   "outputs": [],
   "source": [
    "# 기간 선택\n",
    "serach_period_btn = driver.find_element_by_css_selector('.tab1 > a.tab-btn')\n",
    "serach_period_btn.click()"
   ]
  },
  {
   "cell_type": "code",
   "execution_count": 10,
   "id": "989550d0",
   "metadata": {},
   "outputs": [],
   "source": [
    "# 시작 날짜 2021.01.01 입력\n",
    "inputDateStart = driver.find_element_by_id('search-begin-date')\n",
    "\n",
    "# 백스페이스 10번 누르기\n",
    "for i in range(10):\n",
    "    inputDateStart.send_keys(Keys.BACKSPACE)\n",
    "    \n",
    "inputDateStart.send_keys('20210101')\n",
    "inputDateStart.send_keys(Keys.ENTER)"
   ]
  },
  {
   "cell_type": "code",
   "execution_count": 11,
   "id": "f184a81f",
   "metadata": {},
   "outputs": [],
   "source": [
    "# 통합 분류 클릭            \n",
    "search_cla_btn = driver.find_element_by_css_selector('.tab-btn-inner.tab3 > a')\n",
    "search_cla_btn.click()"
   ]
  },
  {
   "cell_type": "code",
   "execution_count": 12,
   "id": "c518a367",
   "metadata": {},
   "outputs": [],
   "source": [
    "# 정치 1, 경제 2, 사회 3, 문화 4, 국제 5, 지역 6, 스포츠 7, IT_과학 8\n",
    "selector = '#srch-tab3 > ul > li:nth-child({}) .gj-checkbox-bootstrap'.format('8')\n",
    "search_cla_check_box = driver.find_element_by_css_selector(selector)\n",
    "search_cla_check_box.click()"
   ]
  },
  {
   "cell_type": "code",
   "execution_count": 13,
   "id": "bccdaea9",
   "metadata": {},
   "outputs": [],
   "source": [
    "# 적용하기 선택\n",
    "search_app_btn = driver.find_element_by_css_selector('.news-report-search-btn')\n",
    "search_app_btn.click()"
   ]
  },
  {
   "cell_type": "code",
   "execution_count": 14,
   "id": "04c1644e",
   "metadata": {},
   "outputs": [],
   "source": [
    "# 3초 대기 시간 지정\n",
    "time.sleep(3)\n",
    "\n",
    "# 뉴스 분석 선택\n",
    "step3 = driver.find_element_by_id('collapse-step-3')\n",
    "step3.click()"
   ]
  },
  {
   "cell_type": "code",
   "execution_count": 15,
   "id": "2efcc8c6",
   "metadata": {},
   "outputs": [
    {
     "name": "stdout",
     "output_type": "stream",
     "text": [
      "error\n"
     ]
    },
    {
     "name": "stderr",
     "output_type": "stream",
     "text": [
      "<ipython-input-15-9e5764ced327>:11: DeprecationWarning: use driver.switch_to.alert instead\n",
      "  result = driver.switch_to_alert()\n"
     ]
    }
   ],
   "source": [
    "# 엑셀 다운로드 선택\n",
    "# 조건이 적용된 데이터 다운로드\n",
    "download = driver.find_element_by_css_selector('#analytics-data-download > div.btm-btn-wrp > button')\n",
    "download.click()\n",
    "\n",
    "# 3초 대기 시간 지정\n",
    "time.sleep(3)\n",
    "\n",
    "try:\n",
    "    # 알림 창이 나타나면 확인 누르기\n",
    "    result = driver.switch_to_alert()\n",
    "    result.accept()\n",
    "    result.dismiss()\n",
    "except:\n",
    "    print('error')"
   ]
  }
 ],
 "metadata": {
  "kernelspec": {
   "display_name": "Python 3",
   "language": "python",
   "name": "python3"
  },
  "language_info": {
   "codemirror_mode": {
    "name": "ipython",
    "version": 3
   },
   "file_extension": ".py",
   "mimetype": "text/x-python",
   "name": "python",
   "nbconvert_exporter": "python",
   "pygments_lexer": "ipython3",
   "version": "3.8.8"
  }
 },
 "nbformat": 4,
 "nbformat_minor": 5
}
